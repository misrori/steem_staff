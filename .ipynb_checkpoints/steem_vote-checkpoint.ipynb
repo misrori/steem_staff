{
 "cells": [
  {
   "cell_type": "code",
   "execution_count": 1,
   "metadata": {
    "collapsed": false,
    "scrolled": true
   },
   "outputs": [
    {
     "data": {
      "text/plain": [
       "{'expiration': '2018-01-30T08:37:16',\n",
       " 'extensions': [],\n",
       " 'operations': [['vote',\n",
       "   {'author': 'misrori',\n",
       "    'permlink': 'uppcomming-events-in-cryptoworld-30-january-2018',\n",
       "    'voter': 'misrori',\n",
       "    'weight': 10000}]],\n",
       " 'ref_block_num': 27710,\n",
       " 'ref_block_prefix': 3866497517,\n",
       " 'signatures': ['20493a3b7b789773c80787b28fcddacd161288b25defe3af25e44edd559c1b487419127dbf63c7ae77a41ec4a0d66926497b0757d805dc08df76d4eb5548fc30ff']}"
      ]
     },
     "execution_count": 1,
     "metadata": {},
     "output_type": "execute_result"
    }
   ],
   "source": [
    "from piston.steem import Steem\n",
    "import time\n",
    "import os\n",
    "steem = Steem('wss://steemd.privex.io',wif='posting_key')\n",
    "m_title = 'Uppcomming events in cryptoworld! '+ str(time.strftime(\"%d %B %Y\"))\n",
    "os.system(\"Rscript ~/get_events.R\")\n",
    "with open('/home/mihaly/steem_post.txt', 'r') as myfile:\n",
    "    data=myfile.read()\n",
    "\n",
    "steem.post(title= m_title, body=str(data), author='misrori', \n",
    "tags='steem') \n",
    "\n",
    "time.sleep(10)\n",
    "steem.vote(identifier = '@misrori/'+m_title.replace(' ', '-').replace(\"!\", '').lower(), weight=100.0, voter='misrori') \n",
    "\n",
    "\n",
    "#https://steemit.com/piston/@woung717/piston-api-tutorial-make-a-vote-and-post-using-python"
   ]
  },
  {
   "cell_type": "code",
   "execution_count": null,
   "metadata": {
    "collapsed": true
   },
   "outputs": [],
   "source": [
    "steem.transfer()"
   ]
  }
 ],
 "metadata": {
  "anaconda-cloud": {},
  "kernelspec": {
   "display_name": "Python [conda root]",
   "language": "python",
   "name": "conda-root-py"
  },
  "language_info": {
   "codemirror_mode": {
    "name": "ipython",
    "version": 3
   },
   "file_extension": ".py",
   "mimetype": "text/x-python",
   "name": "python",
   "nbconvert_exporter": "python",
   "pygments_lexer": "ipython3",
   "version": "3.5.2"
  }
 },
 "nbformat": 4,
 "nbformat_minor": 1
}
